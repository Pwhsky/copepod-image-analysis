{
 "cells": [
  {
   "cell_type": "code",
   "execution_count": 28,
   "metadata": {},
   "outputs": [],
   "source": [
    "import numpy as np\n",
    "import deeptrack as dt\n",
    "import deeplay as dl\n",
    "%matplotlib inline\n",
    "import os\n",
    "import matplotlib.pyplot as plt\n",
    "import matplotlib.patches as patches\n",
    "import torch\n"
   ]
  },
  {
   "cell_type": "code",
   "execution_count": 29,
   "metadata": {},
   "outputs": [
    {
     "name": "stdout",
     "output_type": "stream",
     "text": [
      "(5202, 3464, 3)\n"
     ]
    },
    {
     "data": {
      "text/plain": [
       "<Figure size 1500x1000 with 0 Axes>"
      ]
     },
     "metadata": {},
     "output_type": "display_data"
    }
   ],
   "source": [
    "image = dt.LoadImage(\"cope_1.png\")\n",
    "plt.figure(figsize=(15, 10))\n",
    "image = np.array(image.resolve()) #Note to self, resolve() makes it into a list\n",
    "print(np.shape(image))\n",
    "#plt.imshow(image)"
   ]
  },
  {
   "cell_type": "markdown",
   "metadata": {},
   "source": [
    "# Prepare cropped sample"
   ]
  },
  {
   "cell_type": "code",
   "execution_count": 30,
   "metadata": {},
   "outputs": [
    {
     "data": {
      "image/png": "[encoded data removed]",
      "text/plain": [
       "<Figure size 640x480 with 4 Axes>"
      ]
     },
     "metadata": {},
     "output_type": "display_data"
    }
   ],
   "source": [
    "'''\n",
    "Example crops for cope_1.png:\n",
    "\n",
    "crop_size = 25\n",
    "y_index = 1875\n",
    "x_index = 1785\n",
    "\n",
    "crop_size = 32\n",
    "y_index = 1864\n",
    "x_index = 920\n",
    "\n",
    "crop_size = 40\n",
    "y_index = 1970\n",
    "x_index = 850\n",
    "\n",
    "crop_size = 30\n",
    "y_index = 2345\n",
    "x_index = 1070\n",
    "\n",
    "cope_2.png:\n",
    "\n",
    "crop_size = 30\n",
    "y_index = 1770\n",
    "x_index = 608\n",
    "\n",
    "\n",
    "crop_size = 35\n",
    "y_index = 1675\n",
    "x_index = 450\n",
    "'''\n",
    "\n",
    "crops = [25,32,40,30]\n",
    "ys    = [1875,1864,1970,2345]\n",
    "xs    = [1785,920,850,1070]\n",
    "\n",
    "#x0,y0 = y_index-crop_size // 2, x_index - crop_size//2\n",
    "#training_image = np.array(   image[x0:x0+crop_size, y0: y0 + crop_size])\n",
    "\n",
    "\n",
    "for i in range(len(crops)):\n",
    "    y_index = ys[i]\n",
    "    x_index = xs[i]\n",
    "    crop_size = crops[i]\n",
    "\n",
    "    x0,y0 = y_index-crop_size // 2, x_index - crop_size//2\n",
    "    training_image = np.array(   image[x0:x0+crop_size, y0: y0 + crop_size])\n",
    "    np.save(f\"training_set/{i}.npy\",training_image)\n",
    "    plt.subplot(1,4,i+1)\n",
    "    plt.axis(\"off\")\n",
    "    plt.imshow(training_image)\n",
    "\n",
    "\n",
    "    \n"
   ]
  },
  {
   "cell_type": "code",
   "execution_count": 35,
   "metadata": {},
   "outputs": [],
   "source": [
    "loader = dt.LoadImage(path=\"training_set/1.npy\")\n"
   ]
  },
  {
   "cell_type": "code",
   "execution_count": 39,
   "metadata": {},
   "outputs": [
    {
     "ename": "TypeError",
     "evalue": "unsupported operand type(s) for >>: 'int' and 'Multiply'",
     "output_type": "error",
     "traceback": [
      "\u001b[0;31m---------------------------------------------------------------------------\u001b[0m",
      "\u001b[0;31mTypeError\u001b[0m                                 Traceback (most recent call last)",
      "\u001b[1;32m/home/alex/Desktop/copepod-image-analysis/lodestar_analysis.ipynb Cell 6\u001b[0m line \u001b[0;36m2\n\u001b[1;32m      <a href='vscode-notebook-cell:/home/alex/Desktop/copepod-image-analysis/lodestar_analysis.ipynb#W4sZmlsZQ%3D%3D?line=0'>1</a>\u001b[0m training_pipeline \u001b[39m=\u001b[39m (\n\u001b[0;32m----> <a href='vscode-notebook-cell:/home/alex/Desktop/copepod-image-analysis/lodestar_analysis.ipynb#W4sZmlsZQ%3D%3D?line=1'>2</a>\u001b[0m    training_image\n\u001b[1;32m      <a href='vscode-notebook-cell:/home/alex/Desktop/copepod-image-analysis/lodestar_analysis.ipynb#W4sZmlsZQ%3D%3D?line=2'>3</a>\u001b[0m     \u001b[39m>>\u001b[39;49m dt\u001b[39m.\u001b[39;49mMultiply(\u001b[39mlambda\u001b[39;49;00m: np\u001b[39m.\u001b[39;49mrandom\u001b[39m.\u001b[39;49muniform(\u001b[39m0.9\u001b[39;49m, \u001b[39m1.1\u001b[39;49m))\n\u001b[1;32m      <a href='vscode-notebook-cell:/home/alex/Desktop/copepod-image-analysis/lodestar_analysis.ipynb#W4sZmlsZQ%3D%3D?line=3'>4</a>\u001b[0m     \u001b[39m>>\u001b[39m dt\u001b[39m.\u001b[39mAdd(\u001b[39mlambda\u001b[39;00m: np\u001b[39m.\u001b[39mrandom\u001b[39m.\u001b[39muniform(\u001b[39m-\u001b[39m\u001b[39m0.1\u001b[39m, \u001b[39m0.1\u001b[39m))\n\u001b[1;32m      <a href='vscode-notebook-cell:/home/alex/Desktop/copepod-image-analysis/lodestar_analysis.ipynb#W4sZmlsZQ%3D%3D?line=4'>5</a>\u001b[0m     \u001b[39m>>\u001b[39m dt\u001b[39m.\u001b[39mMoveAxis(\u001b[39m-\u001b[39m\u001b[39m1\u001b[39m, \u001b[39m0\u001b[39m)\n\u001b[1;32m      <a href='vscode-notebook-cell:/home/alex/Desktop/copepod-image-analysis/lodestar_analysis.ipynb#W4sZmlsZQ%3D%3D?line=5'>6</a>\u001b[0m     \u001b[39m>>\u001b[39m dt\u001b[39m.\u001b[39mpytorch\u001b[39m.\u001b[39mToTensor(dtype\u001b[39m=\u001b[39mtorch\u001b[39m.\u001b[39mfloat32)\n\u001b[1;32m      <a href='vscode-notebook-cell:/home/alex/Desktop/copepod-image-analysis/lodestar_analysis.ipynb#W4sZmlsZQ%3D%3D?line=6'>7</a>\u001b[0m )\n\u001b[1;32m      <a href='vscode-notebook-cell:/home/alex/Desktop/copepod-image-analysis/lodestar_analysis.ipynb#W4sZmlsZQ%3D%3D?line=7'>8</a>\u001b[0m training_dataset \u001b[39m=\u001b[39m dt\u001b[39m.\u001b[39mpytorch\u001b[39m.\u001b[39mDataset(training_pipeline, length\u001b[39m=\u001b[39m\u001b[39m400\u001b[39m, replace\u001b[39m=\u001b[39m\u001b[39mFalse\u001b[39;00m)\n",
      "\u001b[0;31mTypeError\u001b[0m: unsupported operand type(s) for >>: 'int' and 'Multiply'"
     ]
    }
   ],
   "source": [
    "\n",
    "training_pipeline = (\n",
    "    dt.Value(training_image)\n",
    "    >> dt.Multiply(lambda: np.random.uniform(0.9, 1.1))\n",
    "    >> dt.Add(lambda: np.random.uniform(-0.1, 0.1))\n",
    "    >> dt.MoveAxis(-1, 0)\n",
    "    >> dt.pytorch.ToTensor(dtype=torch.float32)\n",
    ")\n",
    "training_dataset = dt.pytorch.Dataset(training_pipeline, length=400, replace=False)"
   ]
  },
  {
   "cell_type": "code",
   "execution_count": 22,
   "metadata": {},
   "outputs": [],
   "source": [
    "dataloader = dl.DataLoader(training_dataset,batch_size=8,shuffle=True,num_workers=6)"
   ]
  },
  {
   "cell_type": "markdown",
   "metadata": {},
   "source": [
    "# Train LodeSTAR with cropped sample"
   ]
  },
  {
   "cell_type": "code",
   "execution_count": 36,
   "metadata": {},
   "outputs": [
    {
     "name": "stderr",
     "output_type": "stream",
     "text": [
      "INFO: \n",
      "  | Name          | Type                       | Params\n",
      "-------------------------------------------------------------\n",
      "0 | model         | ConvolutionalNeuralNetwork | 251 K \n",
      "1 | between_loss  | L1Loss                     | 0     \n",
      "2 | within_loss   | L1Loss                     | 0     \n",
      "3 | train_metrics | MetricCollection           | 0     \n",
      "4 | val_metrics   | MetricCollection           | 0     \n",
      "5 | test_metrics  | MetricCollection           | 0     \n",
      "6 | optimizer     | Adam                       | 0     \n",
      "-------------------------------------------------------------\n",
      "251 K     Trainable params\n",
      "0         Non-trainable params\n",
      "251 K     Total params\n",
      "1.004     Total estimated model params size (MB)\n",
      "INFO:lightning.pytorch.callbacks.model_summary:\n",
      "  | Name          | Type                       | Params\n",
      "-------------------------------------------------------------\n",
      "0 | model         | ConvolutionalNeuralNetwork | 251 K \n",
      "1 | between_loss  | L1Loss                     | 0     \n",
      "2 | within_loss   | L1Loss                     | 0     \n",
      "3 | train_metrics | MetricCollection           | 0     \n",
      "4 | val_metrics   | MetricCollection           | 0     \n",
      "5 | test_metrics  | MetricCollection           | 0     \n",
      "6 | optimizer     | Adam                       | 0     \n",
      "-------------------------------------------------------------\n",
      "251 K     Trainable params\n",
      "0         Non-trainable params\n",
      "251 K     Total params\n",
      "1.004     Total estimated model params size (MB)\n"
     ]
    },
    {
     "name": "stdout",
     "output_type": "stream",
     "text": [
      "Epoch 0:   0%|          | 0/50 [00:00<?, ?it/s] "
     ]
    },
    {
     "ename": "AttributeError",
     "evalue": "Caught AttributeError in DataLoader worker process 0.\nOriginal Traceback (most recent call last):\n  File \"/home/alex/.local/lib/python3.10/site-packages/torch/utils/data/_utils/worker.py\", line 308, in _worker_loop\n    data = fetcher.fetch(index)\n  File \"/home/alex/.local/lib/python3.10/site-packages/torch/utils/data/_utils/fetch.py\", line 51, in fetch\n    data = [self.dataset[idx] for idx in possibly_batched_index]\n  File \"/home/alex/.local/lib/python3.10/site-packages/torch/utils/data/_utils/fetch.py\", line 51, in <listcomp>\n    data = [self.dataset[idx] for idx in possibly_batched_index]\n  File \"/home/alex/.local/lib/python3.10/site-packages/deeptrack/pytorch/data.py\", line 32, in __getitem__\n    res =  self.pipeline(self.inputs[index])\n  File \"/home/alex/.local/lib/python3.10/site-packages/deeptrack/features.py\", line 192, in __call__\n    output = super(Feature, self).__call__(_ID=_ID)\n  File \"/home/alex/.local/lib/python3.10/site-packages/deeptrack/backend/core.py\", line 307, in __call__\n    new_value = self.action(_ID=_ID)\n  File \"/home/alex/.local/lib/python3.10/site-packages/deeptrack/features.py\", line 315, in action\n    new_list = self._process_and_get(image_list, **feature_input)\n  File \"/home/alex/.local/lib/python3.10/site-packages/deeptrack/features.py\", line 710, in _image_wrapped_process_and_get\n    new_list = self.get(image_list, **feature_input)\n  File \"/home/alex/.local/lib/python3.10/site-packages/deeptrack/features.py\", line 776, in get\n    image = self.feature_1(image, _ID=_ID)\n  File \"/home/alex/.local/lib/python3.10/site-packages/deeptrack/features.py\", line 192, in __call__\n    output = super(Feature, self).__call__(_ID=_ID)\n  File \"/home/alex/.local/lib/python3.10/site-packages/deeptrack/backend/core.py\", line 307, in __call__\n    new_value = self.action(_ID=_ID)\n  File \"/home/alex/.local/lib/python3.10/site-packages/deeptrack/features.py\", line 315, in action\n    new_list = self._process_and_get(image_list, **feature_input)\n  File \"/home/alex/.local/lib/python3.10/site-packages/deeptrack/features.py\", line 710, in _image_wrapped_process_and_get\n    new_list = self.get(image_list, **feature_input)\n  File \"/home/alex/.local/lib/python3.10/site-packages/deeptrack/features.py\", line 776, in get\n    image = self.feature_1(image, _ID=_ID)\n  File \"/home/alex/.local/lib/python3.10/site-packages/deeptrack/features.py\", line 192, in __call__\n    output = super(Feature, self).__call__(_ID=_ID)\n  File \"/home/alex/.local/lib/python3.10/site-packages/deeptrack/backend/core.py\", line 307, in __call__\n    new_value = self.action(_ID=_ID)\n  File \"/home/alex/.local/lib/python3.10/site-packages/deeptrack/features.py\", line 315, in action\n    new_list = self._process_and_get(image_list, **feature_input)\n  File \"/home/alex/.local/lib/python3.10/site-packages/deeptrack/features.py\", line 710, in _image_wrapped_process_and_get\n    new_list = self.get(image_list, **feature_input)\n  File \"/home/alex/.local/lib/python3.10/site-packages/deeptrack/features.py\", line 776, in get\n    image = self.feature_1(image, _ID=_ID)\n  File \"/home/alex/.local/lib/python3.10/site-packages/deeptrack/features.py\", line 192, in __call__\n    output = super(Feature, self).__call__(_ID=_ID)\n  File \"/home/alex/.local/lib/python3.10/site-packages/deeptrack/backend/core.py\", line 307, in __call__\n    new_value = self.action(_ID=_ID)\n  File \"/home/alex/.local/lib/python3.10/site-packages/deeptrack/features.py\", line 315, in action\n    new_list = self._process_and_get(image_list, **feature_input)\n  File \"/home/alex/.local/lib/python3.10/site-packages/deeptrack/features.py\", line 710, in _image_wrapped_process_and_get\n    new_list = self.get(image_list, **feature_input)\n  File \"/home/alex/.local/lib/python3.10/site-packages/deeptrack/features.py\", line 776, in get\n    image = self.feature_1(image, _ID=_ID)\n  File \"/home/alex/.local/lib/python3.10/site-packages/deeptrack/features.py\", line 192, in __call__\n    output = super(Feature, self).__call__(_ID=_ID)\n  File \"/home/alex/.local/lib/python3.10/site-packages/deeptrack/backend/core.py\", line 307, in __call__\n    new_value = self.action(_ID=_ID)\n  File \"/home/alex/.local/lib/python3.10/site-packages/deeptrack/features.py\", line 315, in action\n    new_list = self._process_and_get(image_list, **feature_input)\n  File \"/home/alex/.local/lib/python3.10/site-packages/deeptrack/features.py\", line 710, in _image_wrapped_process_and_get\n    new_list = self.get(image_list, **feature_input)\n  File \"/home/alex/.local/lib/python3.10/site-packages/deeptrack/features.py\", line 1683, in get\n    while ndim and image.ndim < ndim:\nAttributeError: 'NoneType' object has no attribute 'ndim'\n",
     "output_type": "error",
     "traceback": [
      "\u001b[0;31m---------------------------------------------------------------------------\u001b[0m",
      "\u001b[0;31mAttributeError\u001b[0m                            Traceback (most recent call last)",
      "\u001b[1;32m/home/alex/Desktop/copepod-image-analysis/lodestar_analysis.ipynb Cell 9\u001b[0m line \u001b[0;36m4\n\u001b[1;32m      <a href='vscode-notebook-cell:/home/alex/Desktop/copepod-image-analysis/lodestar_analysis.ipynb#X10sZmlsZQ%3D%3D?line=1'>2</a>\u001b[0m lodestar \u001b[39m=\u001b[39m dl\u001b[39m.\u001b[39mLodeSTAR(n_transforms\u001b[39m=\u001b[39m\u001b[39m4\u001b[39m,optimizer\u001b[39m=\u001b[39mdl\u001b[39m.\u001b[39mAdam(lr\u001b[39m=\u001b[39m\u001b[39m1e-4\u001b[39m))\u001b[39m.\u001b[39mbuild()\n\u001b[1;32m      <a href='vscode-notebook-cell:/home/alex/Desktop/copepod-image-analysis/lodestar_analysis.ipynb#X10sZmlsZQ%3D%3D?line=2'>3</a>\u001b[0m trainer \u001b[39m=\u001b[39m dl\u001b[39m.\u001b[39mTrainer(max_epochs\u001b[39m=\u001b[39mepochs)\n\u001b[0;32m----> <a href='vscode-notebook-cell:/home/alex/Desktop/copepod-image-analysis/lodestar_analysis.ipynb#X10sZmlsZQ%3D%3D?line=3'>4</a>\u001b[0m trainer\u001b[39m.\u001b[39;49mfit(lodestar,dataloader)\n",
      "File \u001b[0;32m~/.local/lib/python3.10/site-packages/lightning/pytorch/trainer/trainer.py:544\u001b[0m, in \u001b[0;36mTrainer.fit\u001b[0;34m(self, model, train_dataloaders, val_dataloaders, datamodule, ckpt_path)\u001b[0m\n\u001b[1;32m    542\u001b[0m \u001b[39mself\u001b[39m\u001b[39m.\u001b[39mstate\u001b[39m.\u001b[39mstatus \u001b[39m=\u001b[39m TrainerStatus\u001b[39m.\u001b[39mRUNNING\n\u001b[1;32m    543\u001b[0m \u001b[39mself\u001b[39m\u001b[39m.\u001b[39mtraining \u001b[39m=\u001b[39m \u001b[39mTrue\u001b[39;00m\n\u001b[0;32m--> 544\u001b[0m call\u001b[39m.\u001b[39;49m_call_and_handle_interrupt(\n\u001b[1;32m    545\u001b[0m     \u001b[39mself\u001b[39;49m, \u001b[39mself\u001b[39;49m\u001b[39m.\u001b[39;49m_fit_impl, model, train_dataloaders, val_dataloaders, datamodule, ckpt_path\n\u001b[1;32m    546\u001b[0m )\n",
      "File \u001b[0;32m~/.local/lib/python3.10/site-packages/lightning/pytorch/trainer/call.py:44\u001b[0m, in \u001b[0;36m_call_and_handle_interrupt\u001b[0;34m(trainer, trainer_fn, *args, **kwargs)\u001b[0m\n\u001b[1;32m     42\u001b[0m     \u001b[39mif\u001b[39;00m trainer\u001b[39m.\u001b[39mstrategy\u001b[39m.\u001b[39mlauncher \u001b[39mis\u001b[39;00m \u001b[39mnot\u001b[39;00m \u001b[39mNone\u001b[39;00m:\n\u001b[1;32m     43\u001b[0m         \u001b[39mreturn\u001b[39;00m trainer\u001b[39m.\u001b[39mstrategy\u001b[39m.\u001b[39mlauncher\u001b[39m.\u001b[39mlaunch(trainer_fn, \u001b[39m*\u001b[39margs, trainer\u001b[39m=\u001b[39mtrainer, \u001b[39m*\u001b[39m\u001b[39m*\u001b[39mkwargs)\n\u001b[0;32m---> 44\u001b[0m     \u001b[39mreturn\u001b[39;00m trainer_fn(\u001b[39m*\u001b[39;49margs, \u001b[39m*\u001b[39;49m\u001b[39m*\u001b[39;49mkwargs)\n\u001b[1;32m     46\u001b[0m \u001b[39mexcept\u001b[39;00m _TunerExitException:\n\u001b[1;32m     47\u001b[0m     _call_teardown_hook(trainer)\n",
      "File \u001b[0;32m~/.local/lib/python3.10/site-packages/lightning/pytorch/trainer/trainer.py:580\u001b[0m, in \u001b[0;36mTrainer._fit_impl\u001b[0;34m(self, model, train_dataloaders, val_dataloaders, datamodule, ckpt_path)\u001b[0m\n\u001b[1;32m    573\u001b[0m \u001b[39massert\u001b[39;00m \u001b[39mself\u001b[39m\u001b[39m.\u001b[39mstate\u001b[39m.\u001b[39mfn \u001b[39mis\u001b[39;00m \u001b[39mnot\u001b[39;00m \u001b[39mNone\u001b[39;00m\n\u001b[1;32m    574\u001b[0m ckpt_path \u001b[39m=\u001b[39m \u001b[39mself\u001b[39m\u001b[39m.\u001b[39m_checkpoint_connector\u001b[39m.\u001b[39m_select_ckpt_path(\n\u001b[1;32m    575\u001b[0m     \u001b[39mself\u001b[39m\u001b[39m.\u001b[39mstate\u001b[39m.\u001b[39mfn,\n\u001b[1;32m    576\u001b[0m     ckpt_path,\n\u001b[1;32m    577\u001b[0m     model_provided\u001b[39m=\u001b[39m\u001b[39mTrue\u001b[39;00m,\n\u001b[1;32m    578\u001b[0m     model_connected\u001b[39m=\u001b[39m\u001b[39mself\u001b[39m\u001b[39m.\u001b[39mlightning_module \u001b[39mis\u001b[39;00m \u001b[39mnot\u001b[39;00m \u001b[39mNone\u001b[39;00m,\n\u001b[1;32m    579\u001b[0m )\n\u001b[0;32m--> 580\u001b[0m \u001b[39mself\u001b[39;49m\u001b[39m.\u001b[39;49m_run(model, ckpt_path\u001b[39m=\u001b[39;49mckpt_path)\n\u001b[1;32m    582\u001b[0m \u001b[39massert\u001b[39;00m \u001b[39mself\u001b[39m\u001b[39m.\u001b[39mstate\u001b[39m.\u001b[39mstopped\n\u001b[1;32m    583\u001b[0m \u001b[39mself\u001b[39m\u001b[39m.\u001b[39mtraining \u001b[39m=\u001b[39m \u001b[39mFalse\u001b[39;00m\n",
      "File \u001b[0;32m~/.local/lib/python3.10/site-packages/lightning/pytorch/trainer/trainer.py:987\u001b[0m, in \u001b[0;36mTrainer._run\u001b[0;34m(self, model, ckpt_path)\u001b[0m\n\u001b[1;32m    982\u001b[0m \u001b[39mself\u001b[39m\u001b[39m.\u001b[39m_signal_connector\u001b[39m.\u001b[39mregister_signal_handlers()\n\u001b[1;32m    984\u001b[0m \u001b[39m# ----------------------------\u001b[39;00m\n\u001b[1;32m    985\u001b[0m \u001b[39m# RUN THE TRAINER\u001b[39;00m\n\u001b[1;32m    986\u001b[0m \u001b[39m# ----------------------------\u001b[39;00m\n\u001b[0;32m--> 987\u001b[0m results \u001b[39m=\u001b[39m \u001b[39mself\u001b[39;49m\u001b[39m.\u001b[39;49m_run_stage()\n\u001b[1;32m    989\u001b[0m \u001b[39m# ----------------------------\u001b[39;00m\n\u001b[1;32m    990\u001b[0m \u001b[39m# POST-Training CLEAN UP\u001b[39;00m\n\u001b[1;32m    991\u001b[0m \u001b[39m# ----------------------------\u001b[39;00m\n\u001b[1;32m    992\u001b[0m log\u001b[39m.\u001b[39mdebug(\u001b[39mf\u001b[39m\u001b[39m\"\u001b[39m\u001b[39m{\u001b[39;00m\u001b[39mself\u001b[39m\u001b[39m.\u001b[39m\u001b[39m__class__\u001b[39m\u001b[39m.\u001b[39m\u001b[39m__name__\u001b[39m\u001b[39m}\u001b[39;00m\u001b[39m: trainer tearing down\u001b[39m\u001b[39m\"\u001b[39m)\n",
      "File \u001b[0;32m~/.local/lib/python3.10/site-packages/lightning/pytorch/trainer/trainer.py:1033\u001b[0m, in \u001b[0;36mTrainer._run_stage\u001b[0;34m(self)\u001b[0m\n\u001b[1;32m   1031\u001b[0m         \u001b[39mself\u001b[39m\u001b[39m.\u001b[39m_run_sanity_check()\n\u001b[1;32m   1032\u001b[0m     \u001b[39mwith\u001b[39;00m torch\u001b[39m.\u001b[39mautograd\u001b[39m.\u001b[39mset_detect_anomaly(\u001b[39mself\u001b[39m\u001b[39m.\u001b[39m_detect_anomaly):\n\u001b[0;32m-> 1033\u001b[0m         \u001b[39mself\u001b[39;49m\u001b[39m.\u001b[39;49mfit_loop\u001b[39m.\u001b[39;49mrun()\n\u001b[1;32m   1034\u001b[0m     \u001b[39mreturn\u001b[39;00m \u001b[39mNone\u001b[39;00m\n\u001b[1;32m   1035\u001b[0m \u001b[39mraise\u001b[39;00m \u001b[39mRuntimeError\u001b[39;00m(\u001b[39mf\u001b[39m\u001b[39m\"\u001b[39m\u001b[39mUnexpected state \u001b[39m\u001b[39m{\u001b[39;00m\u001b[39mself\u001b[39m\u001b[39m.\u001b[39mstate\u001b[39m}\u001b[39;00m\u001b[39m\"\u001b[39m)\n",
      "File \u001b[0;32m~/.local/lib/python3.10/site-packages/lightning/pytorch/loops/fit_loop.py:205\u001b[0m, in \u001b[0;36m_FitLoop.run\u001b[0;34m(self)\u001b[0m\n\u001b[1;32m    203\u001b[0m \u001b[39mtry\u001b[39;00m:\n\u001b[1;32m    204\u001b[0m     \u001b[39mself\u001b[39m\u001b[39m.\u001b[39mon_advance_start()\n\u001b[0;32m--> 205\u001b[0m     \u001b[39mself\u001b[39;49m\u001b[39m.\u001b[39;49madvance()\n\u001b[1;32m    206\u001b[0m     \u001b[39mself\u001b[39m\u001b[39m.\u001b[39mon_advance_end()\n\u001b[1;32m    207\u001b[0m     \u001b[39mself\u001b[39m\u001b[39m.\u001b[39m_restarting \u001b[39m=\u001b[39m \u001b[39mFalse\u001b[39;00m\n",
      "File \u001b[0;32m~/.local/lib/python3.10/site-packages/lightning/pytorch/loops/fit_loop.py:363\u001b[0m, in \u001b[0;36m_FitLoop.advance\u001b[0;34m(self)\u001b[0m\n\u001b[1;32m    361\u001b[0m \u001b[39mwith\u001b[39;00m \u001b[39mself\u001b[39m\u001b[39m.\u001b[39mtrainer\u001b[39m.\u001b[39mprofiler\u001b[39m.\u001b[39mprofile(\u001b[39m\"\u001b[39m\u001b[39mrun_training_epoch\u001b[39m\u001b[39m\"\u001b[39m):\n\u001b[1;32m    362\u001b[0m     \u001b[39massert\u001b[39;00m \u001b[39mself\u001b[39m\u001b[39m.\u001b[39m_data_fetcher \u001b[39mis\u001b[39;00m \u001b[39mnot\u001b[39;00m \u001b[39mNone\u001b[39;00m\n\u001b[0;32m--> 363\u001b[0m     \u001b[39mself\u001b[39;49m\u001b[39m.\u001b[39;49mepoch_loop\u001b[39m.\u001b[39;49mrun(\u001b[39mself\u001b[39;49m\u001b[39m.\u001b[39;49m_data_fetcher)\n",
      "File \u001b[0;32m~/.local/lib/python3.10/site-packages/lightning/pytorch/loops/training_epoch_loop.py:140\u001b[0m, in \u001b[0;36m_TrainingEpochLoop.run\u001b[0;34m(self, data_fetcher)\u001b[0m\n\u001b[1;32m    138\u001b[0m \u001b[39mwhile\u001b[39;00m \u001b[39mnot\u001b[39;00m \u001b[39mself\u001b[39m\u001b[39m.\u001b[39mdone:\n\u001b[1;32m    139\u001b[0m     \u001b[39mtry\u001b[39;00m:\n\u001b[0;32m--> 140\u001b[0m         \u001b[39mself\u001b[39;49m\u001b[39m.\u001b[39;49madvance(data_fetcher)\n\u001b[1;32m    141\u001b[0m         \u001b[39mself\u001b[39m\u001b[39m.\u001b[39mon_advance_end(data_fetcher)\n\u001b[1;32m    142\u001b[0m         \u001b[39mself\u001b[39m\u001b[39m.\u001b[39m_restarting \u001b[39m=\u001b[39m \u001b[39mFalse\u001b[39;00m\n",
      "File \u001b[0;32m~/.local/lib/python3.10/site-packages/lightning/pytorch/loops/training_epoch_loop.py:212\u001b[0m, in \u001b[0;36m_TrainingEpochLoop.advance\u001b[0;34m(self, data_fetcher)\u001b[0m\n\u001b[1;32m    210\u001b[0m \u001b[39melse\u001b[39;00m:\n\u001b[1;32m    211\u001b[0m     dataloader_iter \u001b[39m=\u001b[39m \u001b[39mNone\u001b[39;00m\n\u001b[0;32m--> 212\u001b[0m     batch, _, __ \u001b[39m=\u001b[39m \u001b[39mnext\u001b[39;49m(data_fetcher)\n\u001b[1;32m    213\u001b[0m     \u001b[39m# TODO: we should instead use the batch_idx returned by the fetcher, however, that will require saving the\u001b[39;00m\n\u001b[1;32m    214\u001b[0m     \u001b[39m# fetcher state so that the batch_idx is correct after restarting\u001b[39;00m\n\u001b[1;32m    215\u001b[0m     batch_idx \u001b[39m=\u001b[39m \u001b[39mself\u001b[39m\u001b[39m.\u001b[39mbatch_idx \u001b[39m+\u001b[39m \u001b[39m1\u001b[39m\n",
      "File \u001b[0;32m~/.local/lib/python3.10/site-packages/lightning/pytorch/loops/fetchers.py:133\u001b[0m, in \u001b[0;36m_PrefetchDataFetcher.__next__\u001b[0;34m(self)\u001b[0m\n\u001b[1;32m    130\u001b[0m         \u001b[39mself\u001b[39m\u001b[39m.\u001b[39mdone \u001b[39m=\u001b[39m \u001b[39mnot\u001b[39;00m \u001b[39mself\u001b[39m\u001b[39m.\u001b[39mbatches\n\u001b[1;32m    131\u001b[0m \u001b[39melif\u001b[39;00m \u001b[39mnot\u001b[39;00m \u001b[39mself\u001b[39m\u001b[39m.\u001b[39mdone:\n\u001b[1;32m    132\u001b[0m     \u001b[39m# this will run only when no pre-fetching was done.\u001b[39;00m\n\u001b[0;32m--> 133\u001b[0m     batch \u001b[39m=\u001b[39m \u001b[39msuper\u001b[39;49m()\u001b[39m.\u001b[39;49m\u001b[39m__next__\u001b[39;49m()\n\u001b[1;32m    134\u001b[0m \u001b[39melse\u001b[39;00m:\n\u001b[1;32m    135\u001b[0m     \u001b[39m# the iterator is empty\u001b[39;00m\n\u001b[1;32m    136\u001b[0m     \u001b[39mraise\u001b[39;00m \u001b[39mStopIteration\u001b[39;00m\n",
      "File \u001b[0;32m~/.local/lib/python3.10/site-packages/lightning/pytorch/loops/fetchers.py:60\u001b[0m, in \u001b[0;36m_DataFetcher.__next__\u001b[0;34m(self)\u001b[0m\n\u001b[1;32m     58\u001b[0m \u001b[39mself\u001b[39m\u001b[39m.\u001b[39m_start_profiler()\n\u001b[1;32m     59\u001b[0m \u001b[39mtry\u001b[39;00m:\n\u001b[0;32m---> 60\u001b[0m     batch \u001b[39m=\u001b[39m \u001b[39mnext\u001b[39;49m(\u001b[39mself\u001b[39;49m\u001b[39m.\u001b[39;49miterator)\n\u001b[1;32m     61\u001b[0m \u001b[39mexcept\u001b[39;00m \u001b[39mStopIteration\u001b[39;00m:\n\u001b[1;32m     62\u001b[0m     \u001b[39mself\u001b[39m\u001b[39m.\u001b[39mdone \u001b[39m=\u001b[39m \u001b[39mTrue\u001b[39;00m\n",
      "File \u001b[0;32m~/.local/lib/python3.10/site-packages/lightning/pytorch/utilities/combined_loader.py:341\u001b[0m, in \u001b[0;36mCombinedLoader.__next__\u001b[0;34m(self)\u001b[0m\n\u001b[1;32m    339\u001b[0m \u001b[39mdef\u001b[39;00m \u001b[39m__next__\u001b[39m(\u001b[39mself\u001b[39m) \u001b[39m-\u001b[39m\u001b[39m>\u001b[39m _ITERATOR_RETURN:\n\u001b[1;32m    340\u001b[0m     \u001b[39massert\u001b[39;00m \u001b[39mself\u001b[39m\u001b[39m.\u001b[39m_iterator \u001b[39mis\u001b[39;00m \u001b[39mnot\u001b[39;00m \u001b[39mNone\u001b[39;00m\n\u001b[0;32m--> 341\u001b[0m     out \u001b[39m=\u001b[39m \u001b[39mnext\u001b[39;49m(\u001b[39mself\u001b[39;49m\u001b[39m.\u001b[39;49m_iterator)\n\u001b[1;32m    342\u001b[0m     \u001b[39mif\u001b[39;00m \u001b[39misinstance\u001b[39m(\u001b[39mself\u001b[39m\u001b[39m.\u001b[39m_iterator, _Sequential):\n\u001b[1;32m    343\u001b[0m         \u001b[39mreturn\u001b[39;00m out\n",
      "File \u001b[0;32m~/.local/lib/python3.10/site-packages/lightning/pytorch/utilities/combined_loader.py:78\u001b[0m, in \u001b[0;36m_MaxSizeCycle.__next__\u001b[0;34m(self)\u001b[0m\n\u001b[1;32m     76\u001b[0m \u001b[39mfor\u001b[39;00m i \u001b[39min\u001b[39;00m \u001b[39mrange\u001b[39m(n):\n\u001b[1;32m     77\u001b[0m     \u001b[39mtry\u001b[39;00m:\n\u001b[0;32m---> 78\u001b[0m         out[i] \u001b[39m=\u001b[39m \u001b[39mnext\u001b[39;49m(\u001b[39mself\u001b[39;49m\u001b[39m.\u001b[39;49miterators[i])\n\u001b[1;32m     79\u001b[0m     \u001b[39mexcept\u001b[39;00m \u001b[39mStopIteration\u001b[39;00m:\n\u001b[1;32m     80\u001b[0m         \u001b[39mself\u001b[39m\u001b[39m.\u001b[39m_consumed[i] \u001b[39m=\u001b[39m \u001b[39mTrue\u001b[39;00m\n",
      "File \u001b[0;32m~/.local/lib/python3.10/site-packages/torch/utils/data/dataloader.py:631\u001b[0m, in \u001b[0;36m_BaseDataLoaderIter.__next__\u001b[0;34m(self)\u001b[0m\n\u001b[1;32m    628\u001b[0m \u001b[39mif\u001b[39;00m \u001b[39mself\u001b[39m\u001b[39m.\u001b[39m_sampler_iter \u001b[39mis\u001b[39;00m \u001b[39mNone\u001b[39;00m:\n\u001b[1;32m    629\u001b[0m     \u001b[39m# TODO(https://github.com/pytorch/pytorch/issues/76750)\u001b[39;00m\n\u001b[1;32m    630\u001b[0m     \u001b[39mself\u001b[39m\u001b[39m.\u001b[39m_reset()  \u001b[39m# type: ignore[call-arg]\u001b[39;00m\n\u001b[0;32m--> 631\u001b[0m data \u001b[39m=\u001b[39m \u001b[39mself\u001b[39;49m\u001b[39m.\u001b[39;49m_next_data()\n\u001b[1;32m    632\u001b[0m \u001b[39mself\u001b[39m\u001b[39m.\u001b[39m_num_yielded \u001b[39m+\u001b[39m\u001b[39m=\u001b[39m \u001b[39m1\u001b[39m\n\u001b[1;32m    633\u001b[0m \u001b[39mif\u001b[39;00m \u001b[39mself\u001b[39m\u001b[39m.\u001b[39m_dataset_kind \u001b[39m==\u001b[39m _DatasetKind\u001b[39m.\u001b[39mIterable \u001b[39mand\u001b[39;00m \\\n\u001b[1;32m    634\u001b[0m         \u001b[39mself\u001b[39m\u001b[39m.\u001b[39m_IterableDataset_len_called \u001b[39mis\u001b[39;00m \u001b[39mnot\u001b[39;00m \u001b[39mNone\u001b[39;00m \u001b[39mand\u001b[39;00m \\\n\u001b[1;32m    635\u001b[0m         \u001b[39mself\u001b[39m\u001b[39m.\u001b[39m_num_yielded \u001b[39m>\u001b[39m \u001b[39mself\u001b[39m\u001b[39m.\u001b[39m_IterableDataset_len_called:\n",
      "File \u001b[0;32m~/.local/lib/python3.10/site-packages/torch/utils/data/dataloader.py:1346\u001b[0m, in \u001b[0;36m_MultiProcessingDataLoaderIter._next_data\u001b[0;34m(self)\u001b[0m\n\u001b[1;32m   1344\u001b[0m \u001b[39melse\u001b[39;00m:\n\u001b[1;32m   1345\u001b[0m     \u001b[39mdel\u001b[39;00m \u001b[39mself\u001b[39m\u001b[39m.\u001b[39m_task_info[idx]\n\u001b[0;32m-> 1346\u001b[0m     \u001b[39mreturn\u001b[39;00m \u001b[39mself\u001b[39;49m\u001b[39m.\u001b[39;49m_process_data(data)\n",
      "File \u001b[0;32m~/.local/lib/python3.10/site-packages/torch/utils/data/dataloader.py:1372\u001b[0m, in \u001b[0;36m_MultiProcessingDataLoaderIter._process_data\u001b[0;34m(self, data)\u001b[0m\n\u001b[1;32m   1370\u001b[0m \u001b[39mself\u001b[39m\u001b[39m.\u001b[39m_try_put_index()\n\u001b[1;32m   1371\u001b[0m \u001b[39mif\u001b[39;00m \u001b[39misinstance\u001b[39m(data, ExceptionWrapper):\n\u001b[0;32m-> 1372\u001b[0m     data\u001b[39m.\u001b[39;49mreraise()\n\u001b[1;32m   1373\u001b[0m \u001b[39mreturn\u001b[39;00m data\n",
      "File \u001b[0;32m~/.local/lib/python3.10/site-packages/torch/_utils.py:722\u001b[0m, in \u001b[0;36mExceptionWrapper.reraise\u001b[0;34m(self)\u001b[0m\n\u001b[1;32m    718\u001b[0m \u001b[39mexcept\u001b[39;00m \u001b[39mTypeError\u001b[39;00m:\n\u001b[1;32m    719\u001b[0m     \u001b[39m# If the exception takes multiple arguments, don't try to\u001b[39;00m\n\u001b[1;32m    720\u001b[0m     \u001b[39m# instantiate since we don't know how to\u001b[39;00m\n\u001b[1;32m    721\u001b[0m     \u001b[39mraise\u001b[39;00m \u001b[39mRuntimeError\u001b[39;00m(msg) \u001b[39mfrom\u001b[39;00m \u001b[39mNone\u001b[39;00m\n\u001b[0;32m--> 722\u001b[0m \u001b[39mraise\u001b[39;00m exception\n",
      "\u001b[0;31mAttributeError\u001b[0m: Caught AttributeError in DataLoader worker process 0.\nOriginal Traceback (most recent call last):\n  File \"/home/alex/.local/lib/python3.10/site-packages/torch/utils/data/_utils/worker.py\", line 308, in _worker_loop\n    data = fetcher.fetch(index)\n  File \"/home/alex/.local/lib/python3.10/site-packages/torch/utils/data/_utils/fetch.py\", line 51, in fetch\n    data = [self.dataset[idx] for idx in possibly_batched_index]\n  File \"/home/alex/.local/lib/python3.10/site-packages/torch/utils/data/_utils/fetch.py\", line 51, in <listcomp>\n    data = [self.dataset[idx] for idx in possibly_batched_index]\n  File \"/home/alex/.local/lib/python3.10/site-packages/deeptrack/pytorch/data.py\", line 32, in __getitem__\n    res =  self.pipeline(self.inputs[index])\n  File \"/home/alex/.local/lib/python3.10/site-packages/deeptrack/features.py\", line 192, in __call__\n    output = super(Feature, self).__call__(_ID=_ID)\n  File \"/home/alex/.local/lib/python3.10/site-packages/deeptrack/backend/core.py\", line 307, in __call__\n    new_value = self.action(_ID=_ID)\n  File \"/home/alex/.local/lib/python3.10/site-packages/deeptrack/features.py\", line 315, in action\n    new_list = self._process_and_get(image_list, **feature_input)\n  File \"/home/alex/.local/lib/python3.10/site-packages/deeptrack/features.py\", line 710, in _image_wrapped_process_and_get\n    new_list = self.get(image_list, **feature_input)\n  File \"/home/alex/.local/lib/python3.10/site-packages/deeptrack/features.py\", line 776, in get\n    image = self.feature_1(image, _ID=_ID)\n  File \"/home/alex/.local/lib/python3.10/site-packages/deeptrack/features.py\", line 192, in __call__\n    output = super(Feature, self).__call__(_ID=_ID)\n  File \"/home/alex/.local/lib/python3.10/site-packages/deeptrack/backend/core.py\", line 307, in __call__\n    new_value = self.action(_ID=_ID)\n  File \"/home/alex/.local/lib/python3.10/site-packages/deeptrack/features.py\", line 315, in action\n    new_list = self._process_and_get(image_list, **feature_input)\n  File \"/home/alex/.local/lib/python3.10/site-packages/deeptrack/features.py\", line 710, in _image_wrapped_process_and_get\n    new_list = self.get(image_list, **feature_input)\n  File \"/home/alex/.local/lib/python3.10/site-packages/deeptrack/features.py\", line 776, in get\n    image = self.feature_1(image, _ID=_ID)\n  File \"/home/alex/.local/lib/python3.10/site-packages/deeptrack/features.py\", line 192, in __call__\n    output = super(Feature, self).__call__(_ID=_ID)\n  File \"/home/alex/.local/lib/python3.10/site-packages/deeptrack/backend/core.py\", line 307, in __call__\n    new_value = self.action(_ID=_ID)\n  File \"/home/alex/.local/lib/python3.10/site-packages/deeptrack/features.py\", line 315, in action\n    new_list = self._process_and_get(image_list, **feature_input)\n  File \"/home/alex/.local/lib/python3.10/site-packages/deeptrack/features.py\", line 710, in _image_wrapped_process_and_get\n    new_list = self.get(image_list, **feature_input)\n  File \"/home/alex/.local/lib/python3.10/site-packages/deeptrack/features.py\", line 776, in get\n    image = self.feature_1(image, _ID=_ID)\n  File \"/home/alex/.local/lib/python3.10/site-packages/deeptrack/features.py\", line 192, in __call__\n    output = super(Feature, self).__call__(_ID=_ID)\n  File \"/home/alex/.local/lib/python3.10/site-packages/deeptrack/backend/core.py\", line 307, in __call__\n    new_value = self.action(_ID=_ID)\n  File \"/home/alex/.local/lib/python3.10/site-packages/deeptrack/features.py\", line 315, in action\n    new_list = self._process_and_get(image_list, **feature_input)\n  File \"/home/alex/.local/lib/python3.10/site-packages/deeptrack/features.py\", line 710, in _image_wrapped_process_and_get\n    new_list = self.get(image_list, **feature_input)\n  File \"/home/alex/.local/lib/python3.10/site-packages/deeptrack/features.py\", line 776, in get\n    image = self.feature_1(image, _ID=_ID)\n  File \"/home/alex/.local/lib/python3.10/site-packages/deeptrack/features.py\", line 192, in __call__\n    output = super(Feature, self).__call__(_ID=_ID)\n  File \"/home/alex/.local/lib/python3.10/site-packages/deeptrack/backend/core.py\", line 307, in __call__\n    new_value = self.action(_ID=_ID)\n  File \"/home/alex/.local/lib/python3.10/site-packages/deeptrack/features.py\", line 315, in action\n    new_list = self._process_and_get(image_list, **feature_input)\n  File \"/home/alex/.local/lib/python3.10/site-packages/deeptrack/features.py\", line 710, in _image_wrapped_process_and_get\n    new_list = self.get(image_list, **feature_input)\n  File \"/home/alex/.local/lib/python3.10/site-packages/deeptrack/features.py\", line 1683, in get\n    while ndim and image.ndim < ndim:\nAttributeError: 'NoneType' object has no attribute 'ndim'\n"
     ]
    }
   ],
   "source": [
    "epochs = 5\n",
    "lodestar = dl.LodeSTAR(n_transforms=4,optimizer=dl.Adam(lr=1e-4)).build()\n",
    "trainer = dl.Trainer(max_epochs=epochs)\n",
    "trainer.fit(lodestar,dataloader)"
   ]
  },
  {
   "cell_type": "markdown",
   "metadata": {},
   "source": [
    "# Evaluate Performance"
   ]
  },
  {
   "cell_type": "code",
   "execution_count": null,
   "metadata": {},
   "outputs": [],
   "source": [
    "#Prepare test image:\n",
    "#crop_size= 2600\n",
    "#y_index = 1900\n",
    "#x_index = 1700\n",
    "#x0,y0 = y_index-crop_size // 2, x_index - crop_size//2\n",
    "#test_image = image[x0:x0+crop_size, y0: y0 + crop_size]\n",
    "\n",
    "\n",
    "#Downsample test image so it can be fed without crashing the pc\n",
    "import cv2\n",
    "rescale_factor = 0.7\n",
    "new_width  = int(image.shape[1]*rescale_factor)\n",
    "new_height = int(image.shape[0]*rescale_factor)\n",
    "test_image = cv2.resize(image, (new_width,new_height),interpolation=cv2.INTER_AREA) \n",
    "torch_image = torch.from_numpy(test_image).permute(2,0,1).unsqueeze(0).float()\n",
    "\n",
    "\n",
    "#Feed to LodeSTAR\n",
    "prediction = lodestar(torch_image)[0].detach().numpy()\n",
    "\n",
    "x, y, rho = prediction[0], prediction[1], prediction[-1]\n",
    "\n",
    "\n",
    "plt.figure(figsize=(17,11))\n",
    "plt.subplot(1,3,1)\n",
    "plt.imshow(test_image)\n",
    "plt.title(\"Input image\")\n",
    "\n",
    "plt.subplot(1,3,2)\n",
    "plt.imshow(rho,cmap=\"grey\")\n",
    "plt.title(\"Predicted image\")\n",
    "\n",
    "\n",
    "#plt.subplot(1,3,3)\n",
    "#plt.imshow(test_image)\n",
    "#plt.scatter(y,x,alpha=rho.flatten()/rho.max(),s=0.0001)\n",
    "#plt.title(\"input + predicted\")\n",
    "\n"
   ]
  },
  {
   "cell_type": "code",
   "execution_count": null,
   "metadata": {},
   "outputs": [],
   "source": [
    "alpha = 0.99\n",
    "beta  = 0.99\n",
    "\n",
    "cutoff = 0.2\n",
    "\n",
    "mode= \"constant\"\n",
    "\n",
    "plt.figure(figsize=(15, 10))\n",
    "   \n",
    "detections = lodestar.detect(torch_image, alpha=alpha, beta=beta, \n",
    "                                 mode=\"constant\", cutoff=cutoff)[0]\n",
    "\n",
    "\n",
    "plt.imshow(test_image, cmap=\"gray\")\n",
    "plt.scatter(detections[:, 1], detections[:, 0],marker=\"o\",facecolors=\"none\",edgecolors='r',linewidths=0.3)\n",
    "plt.axis(\"off\")\n",
    "\n",
    "plt.show()"
   ]
  },
  {
   "cell_type": "code",
   "execution_count": null,
   "metadata": {},
   "outputs": [],
   "source": []
  }
 ],
 "metadata": {
  "kernelspec": {
   "display_name": "Python 3",
   "language": "python",
   "name": "python3"
  },
  "language_info": {
   "codemirror_mode": {
    "name": "ipython",
    "version": 3
   },
   "file_extension": ".py",
   "mimetype": "text/x-python",
   "name": "python",
   "nbconvert_exporter": "python",
   "pygments_lexer": "ipython3",
   "version": "3.10.12"
  }
 },
 "nbformat": 4,
 "nbformat_minor": 2
}
